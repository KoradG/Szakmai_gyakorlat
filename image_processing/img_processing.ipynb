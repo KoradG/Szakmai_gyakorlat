{
 "cells": [
  {
   "cell_type": "markdown",
   "id": "1563d783",
   "metadata": {},
   "source": [
    "# Kép betöltése és megjelenítése"
   ]
  },
  {
   "cell_type": "code",
   "execution_count": null,
   "id": "d86de64b",
   "metadata": {},
   "outputs": [],
   "source": [
    "import matplotlib.pyplot as plt\n",
    "import matplotlib.image as mpimg\n",
    "import cv2\n",
    "import numpy as np\n",
    "from scipy.signal import convolve2d #2D konvolúció\n",
    "import os\n",
    "from PIL import Image\n",
    "from scipy import ndimage"
   ]
  },
  {
   "cell_type": "code",
   "execution_count": null,
   "id": "2a937871",
   "metadata": {
    "scrolled": true
   },
   "outputs": [],
   "source": [
    "img = mpimg.imread('Images/cat.jpg')\n",
    "imgplot = plt.imshow(img)\n",
    "plt.show()"
   ]
  },
  {
   "cell_type": "markdown",
   "id": "a5036ed1",
   "metadata": {},
   "source": [
    "\n",
    "# Kép vágása"
   ]
  },
  {
   "cell_type": "code",
   "execution_count": null,
   "id": "22786069",
   "metadata": {},
   "outputs": [],
   "source": [
    "#image shape (height, width, depth/color)\n",
    "print(img.shape)"
   ]
  },
  {
   "cell_type": "code",
   "execution_count": null,
   "id": "75a44f9c",
   "metadata": {
    "scrolled": true
   },
   "outputs": [],
   "source": [
    "img_cropped = img[0:600, 0:1000, :]\n",
    "imgplot = plt.imshow(img_cropped)\n",
    "plt.show()"
   ]
  },
  {
   "cell_type": "code",
   "execution_count": null,
   "id": "f8269b17",
   "metadata": {
    "scrolled": true
   },
   "outputs": [],
   "source": [
    "print(img_cropped.shape)"
   ]
  },
  {
   "cell_type": "markdown",
   "id": "b3490b43",
   "metadata": {},
   "source": [
    "# Kép szürkeárnyalatossá tétele\n",
    "## Átlagolással"
   ]
  },
  {
   "cell_type": "code",
   "execution_count": null,
   "id": "04499a7f",
   "metadata": {},
   "outputs": [],
   "source": [
    "grey_img = cv2.imread('Images/cat.jpg')\n",
    "\n",
    "#Transform so Matplotlib can read it correctly\n",
    "fix_img = cv2.cvtColor(img, cv2.COLOR_BGR2RGB)\n",
    "plt.title('BGR konvertáció')\n",
    "plt.imshow(fix_img)\n",
    "\n",
    "#Matplotlib expects Red Green Blue\n",
    "#OPENCV reads as Blue Green Red\n",
    "\n",
    "#the three channels\n",
    "R, G, B = fix_img[:,:,0], fix_img[:,:,1],fix_img[:,:,2]"
   ]
  },
  {
   "cell_type": "code",
   "execution_count": null,
   "id": "be136f14",
   "metadata": {},
   "outputs": [],
   "source": [
    "gray_avg_img = np.mean(fix_img, axis=2)\n",
    "plt.imshow(gray_avg_img, cmap='gray')"
   ]
  },
  {
   "cell_type": "markdown",
   "id": "8dbd366a",
   "metadata": {},
   "source": [
    "## Súlyozott átlaggal "
   ]
  },
  {
   "cell_type": "code",
   "execution_count": null,
   "id": "36a11c0b",
   "metadata": {},
   "outputs": [],
   "source": [
    "#OpenCV grayscale conversion formula\n",
    "Y = 0.299 * R + 0.587 * G + 0.114 * B\n",
    "print(Y)"
   ]
  },
  {
   "cell_type": "code",
   "execution_count": null,
   "id": "ee7e90c4",
   "metadata": {},
   "outputs": [],
   "source": [
    "plt.imshow(Y, cmap='gray')"
   ]
  },
  {
   "cell_type": "code",
   "execution_count": null,
   "id": "da44ec9a",
   "metadata": {},
   "outputs": [],
   "source": [
    "#OpenCV function\n",
    "gray_img_ocv = cv2.imread('Images/cat.jpg', cv2.IMREAD_GRAYSCALE)\n",
    "#print(gray_img_ocv)\n",
    "\n",
    "plt.imshow(gray_img_ocv, cmap='gray')"
   ]
  },
  {
   "cell_type": "markdown",
   "id": "2bcbfeef",
   "metadata": {},
   "source": [
    "# Hisztogram\n",
    "## OpenCV"
   ]
  },
  {
   "cell_type": "code",
   "execution_count": null,
   "id": "93ac3835",
   "metadata": {},
   "outputs": [],
   "source": [
    "histg = cv2.calcHist([gray_img_ocv], [0], None, [256], [0, 256])\n",
    "#cv2.calcHist(images, channels, mask, histSize, ranges[, hist[, accumulate]])\n",
    "\n",
    "plt.xlabel('Intenzitás')\n",
    "plt.ylabel('Gyakoriság')\n",
    "plt.title('Szürkeárnyalati hisztogram')\n",
    "plt.hist(gray_img_ocv.ravel(), 256, [0,256])\n",
    "plt.show()"
   ]
  },
  {
   "cell_type": "markdown",
   "id": "482206f7",
   "metadata": {},
   "source": [
    "## Matplotlib"
   ]
  },
  {
   "cell_type": "code",
   "execution_count": null,
   "id": "97b87ea5",
   "metadata": {},
   "outputs": [],
   "source": [
    "hist,bin = np.histogram(gray_avg_img.ravel(), 256, [0,255])\n",
    "\n",
    "plt.plot(hist)\n",
    "plt.xlabel('Intenzitás')\n",
    "plt.ylabel('Gyakoriság')\n",
    "plt.title('Szürkeárnyalati hisztogram')\n",
    "plt.show()\n"
   ]
  },
  {
   "cell_type": "markdown",
   "id": "a420abb4",
   "metadata": {},
   "source": [
    "# Küszöbölés"
   ]
  },
  {
   "cell_type": "code",
   "execution_count": null,
   "id": "e07b2b7f",
   "metadata": {},
   "outputs": [],
   "source": [
    "_, thresholded_image = cv2.threshold(gray_avg_img, 127, 255, cv2.THRESH_BINARY)\n",
    "\n",
    "plt.figure()\n",
    "plt.imshow(thresholded_image, cmap='gray')\n",
    "plt.axis('off')\n",
    "plt.title('Globális küszöbölés')\n",
    "plt.show()\n"
   ]
  },
  {
   "cell_type": "markdown",
   "id": "10aedf44",
   "metadata": {},
   "source": [
    "# Átlagoló szűrő \n",
    "## OpenCV"
   ]
  },
  {
   "cell_type": "code",
   "execution_count": null,
   "id": "a90d1a5e",
   "metadata": {},
   "outputs": [],
   "source": [
    "kernel_size = (3, 3)  # A szűrő mérete (pl. 3x3)\n",
    "filtered_image = cv2.blur(img, kernel_size)\n",
    "\n",
    "plt.figure()\n",
    "plt.imshow(cv2.cvtColor(filtered_image, cv2.COLOR_BGR2RGB))\n",
    "plt.axis('off')\n",
    "plt.title('Átlagoló szűrő (OpenCV)')\n",
    "plt.show()"
   ]
  },
  {
   "cell_type": "code",
   "execution_count": null,
   "id": "fbb1fe9f",
   "metadata": {},
   "outputs": [],
   "source": [
    "def global_threshold_ratio(image, ratio):\n",
    "    # Kép konvertálása szürkeárnyalatossá\n",
    "    gray_image = cv2.cvtColor(image, cv2.COLOR_BGR2GRAY)\n",
    "    \n",
    "    # Küszöbérték meghatározása az adott arány alapján\n",
    "    threshold_value = np.percentile(gray_image, ratio * 100)\n",
    "    \n",
    "    # Küszöbölés\n",
    "    _, thresholded_image = cv2.threshold(gray_image, threshold_value, 255, cv2.THRESH_BINARY)\n",
    "    \n",
    "    return thresholded_image\n",
    "\n",
    "\n",
    "thresh_img = global_threshold_ratio(img, .6)\n",
    "\n",
    "\n",
    "plt.figure()\n",
    "plt.imshow(thresh_img, cmap='gray')\n",
    "plt.axis('off')\n",
    "plt.title('Globális küszöbölés arányosan')\n",
    "plt.show()\n"
   ]
  },
  {
   "cell_type": "markdown",
   "id": "4343cc26",
   "metadata": {},
   "source": [
    " Mivel a küszöbérték meghatározása a percentilis pont alapján történik,\n",
    " a pontos közelítés függ a kép intenzitáseloszlásától és a kiválasztott aránytól. \n",
    " Általánosságban elmondható, hogy minél jobban közelít az intenzitáseloszlás az egyenletes eloszláshoz,\n",
    " annál pontosabb lesz a közelítés."
   ]
  },
  {
   "cell_type": "markdown",
   "id": "ddee2ecd",
   "metadata": {},
   "source": [
    "## Kézi implementáció"
   ]
  },
  {
   "cell_type": "code",
   "execution_count": null,
   "id": "d59c129b",
   "metadata": {},
   "outputs": [],
   "source": [
    "image_rgb = cv2.cvtColor(img, cv2.COLOR_BGR2RGB)  # Kép átalakítása RGB formátumba\n",
    "\n",
    "kernel_size = (3, 3)  # A szűrő mérete (pl. 3x3)\n",
    "kernel = np.ones(kernel_size) / np.prod(kernel_size)\n",
    "\n",
    "filtered_image_r = convolve2d(image_rgb[:,:,0], kernel, mode='same', boundary='symm')\n",
    "filtered_image_g = convolve2d(image_rgb[:,:,1], kernel, mode='same', boundary='symm')\n",
    "filtered_image_b = convolve2d(image_rgb[:,:,2], kernel, mode='same', boundary='symm')\n",
    "\n",
    "filtered_image = np.stack((filtered_image_r, filtered_image_g, filtered_image_b), axis=2).astype(np.uint8)\n",
    "\n",
    "plt.figure()\n",
    "plt.imshow(filtered_image)\n",
    "plt.axis('off')\n",
    "plt.title('Átlagoló szűrő (kézi implementáció)')\n",
    "plt.show()"
   ]
  },
  {
   "cell_type": "markdown",
   "id": "79c03a74",
   "metadata": {},
   "source": [
    "## Különböző kernel méretekkel"
   ]
  },
  {
   "cell_type": "code",
   "execution_count": null,
   "id": "8e4285a2",
   "metadata": {},
   "outputs": [],
   "source": [
    "def average_filter(image, kernel_size):\n",
    "    # Átlagoló szűrő alkalmazása\n",
    "    filtered_image = cv2.blur(image, (kernel_size, kernel_size))\n",
    "    return filtered_image\n",
    "\n",
    "# Kép betöltése\n",
    "img = cv2.imread('Images/blurry.jpg', cv2.IMREAD_GRAYSCALE)\n",
    "\n",
    "# Kernel méretek léptetése\n",
    "start = 3\n",
    "stop = 101\n",
    "step = 2\n",
    "kernel_sizes = list(range(start, stop+1, step))\n",
    "\n",
    "# Kimeneti mappa létrehozása\n",
    "output_dir = 'average_filter'\n",
    "os.makedirs(output_dir, exist_ok=True)\n",
    "\n",
    "# Átlagolt képek elmentése különböző kernel méretekkel\n",
    "for kernel_size in kernel_sizes:\n",
    "    filtered_image = average_filter(img, kernel_size)\n",
    "    file_name = f'{kernel_size}x{kernel_size}.png'\n",
    "    file_path = os.path.join(output_dir, file_name)\n",
    "    cv2.imwrite(file_path, filtered_image)\n"
   ]
  },
  {
   "cell_type": "markdown",
   "id": "d905a140",
   "metadata": {},
   "source": [
    "## Nem négyzetes kernel"
   ]
  },
  {
   "cell_type": "code",
   "execution_count": null,
   "id": "fe0470eb",
   "metadata": {},
   "outputs": [],
   "source": [
    "\n",
    "def average_filter(image, kernel):\n",
    "    # Átlagoló szűrő alkalmazása\n",
    "    filtered_image = cv2.filter2D(image, -1, kernel)\n",
    "    \n",
    "    return filtered_image\n",
    "\n",
    "# Kernel definiálása\n",
    "kernel = np.array([[1/9, 1/9, 1/9],\n",
    "                   [1/9, 1/9, 1/9],\n",
    "                   [1/9, 1/9, 1/9]])\n",
    "\n",
    "\n",
    "# Átlagoló szűrő alkalmazása nem négyzetes kernellel\n",
    "filtered_image = average_filter(img, kernel)\n",
    "\n",
    "# Eredmény megjelenítése\n",
    "fig, axs = plt.subplots(1, 2, figsize=(8, 4))\n",
    "\n",
    "axs[0].imshow(cv2.cvtColor(img, cv2.COLOR_BGR2RGB))\n",
    "axs[0].set_title('Eredeti kép')\n",
    "axs[0].axis('off')\n",
    "\n",
    "axs[1].imshow(cv2.cvtColor(filtered_image, cv2.COLOR_BGR2RGB))\n",
    "axs[1].set_title('Átlagolt kép')\n",
    "axs[1].axis('off')\n",
    "\n",
    "plt.show()"
   ]
  },
  {
   "cell_type": "markdown",
   "id": "9c201754",
   "metadata": {},
   "source": [
    "A kernel értékeit lineárisan beállítottam 1/9-re, \n",
    "hogy megfeleljenek egy pontosabb átlagoló szűrőnek. \n",
    "Ez a kernel súlyozott átlagolást eredményez, amely nem módosítja a kép világosságát.\n"
   ]
  },
  {
   "cell_type": "markdown",
   "id": "8ead12b6",
   "metadata": {},
   "source": [
    "# Medián szűrés"
   ]
  },
  {
   "cell_type": "code",
   "execution_count": null,
   "id": "16c51561",
   "metadata": {},
   "outputs": [],
   "source": [
    "def median_filter(image, kernel_size):\n",
    "    # Mediánszűrő alkalmazása\n",
    "    filtered_image = cv2.medianBlur(image, kernel_size)\n",
    "    \n",
    "    return filtered_image\n",
    "\n",
    "# Kernel méretek léptetése\n",
    "start = 3\n",
    "stop = 101\n",
    "step = 2\n",
    "kernel_sizes = list(range(start, stop+1, step))\n",
    "\n",
    "# Kimeneti mappa létrehozása\n",
    "output_dir = 'median_filter'\n",
    "os.makedirs(output_dir, exist_ok=True)\n",
    "\n",
    "# Mediánszűrő alkalmazása különböző kernel méretekkel\n",
    "filtered_images = []\n",
    "for kernel_size in kernel_sizes:\n",
    "    filtered_image = median_filter(img, kernel_size)\n",
    "    filtered_images.append(filtered_image)\n",
    "    \n",
    "    # Eredmények mentése fájlba\n",
    "    file_name = f'{kernel_size}x{kernel_size}.png'\n",
    "    file_path = os.path.join(output_dir, file_name)\n",
    "    cv2.imwrite(file_path, filtered_image)\n",
    "\n"
   ]
  },
  {
   "cell_type": "markdown",
   "id": "558b90a6",
   "metadata": {},
   "source": [
    "# Lokális küszöbölés"
   ]
  },
  {
   "cell_type": "code",
   "execution_count": null,
   "id": "488a56fe",
   "metadata": {},
   "outputs": [],
   "source": [
    "\n",
    "def local_threshold_mean(image, kernel_size):\n",
    "    # Átlagszűrő alkalmazása a küszöbérték meghatározásához\n",
    "    blurred_image = cv2.blur(image, (kernel_size, kernel_size))\n",
    "    \n",
    "    # Konvolúció az eredeti képpel\n",
    "    convolved_image = cv2.filter2D(image, -1, np.ones((kernel_size, kernel_size), dtype=np.float32) / (kernel_size * kernel_size))\n",
    "    \n",
    "    # Lokális küszöbölés az átlag alapján\n",
    "    thresholded_image = np.where(image > convolved_image, 255, 0).astype(np.uint8)\n",
    "    \n",
    "    return thresholded_image\n",
    "\n",
    "# Lokális küszöbölés alkalmazása\n",
    "kernel_size = 25\n",
    "thresholded_image = local_threshold_mean(grey_img, kernel_size)\n",
    "\n",
    "# Eredmények megjelenítése\n",
    "fig, axs = plt.subplots(1, 2, figsize=(10, 5))\n",
    "axs[0].imshow(grey_img, cmap='gray')\n",
    "axs[0].set_title('Eredeti kép')\n",
    "axs[0].axis('off')\n",
    "\n",
    "axs[1].imshow(thresholded_image, cmap='gray')\n",
    "axs[1].set_title('Lokális küszöbölés átlag alapján')\n",
    "axs[1].axis('off')\n",
    "\n",
    "plt.show()\n"
   ]
  },
  {
   "cell_type": "markdown",
   "id": "19e9457b",
   "metadata": {},
   "source": [
    "# Élkiemelés\n",
    "## Roberts filter"
   ]
  },
  {
   "cell_type": "code",
   "execution_count": null,
   "id": "99efdcef",
   "metadata": {},
   "outputs": [],
   "source": [
    "\n",
    "roberts_cross_v = np.array([[1, 0],\n",
    "                            [0, -1]])\n",
    "\n",
    "roberts_cross_h = np.array([[0, 1],\n",
    "                            [-1, 0]])\n",
    "\n",
    "img = cv2.imread(\"Images/lines.png\", 0).astype('float64')\n",
    "img /= 255.0\n",
    "vertical = ndimage.convolve(img, roberts_cross_v)\n",
    "horizontal = ndimage.convolve(img, roberts_cross_h)\n",
    "\n",
    "# Kombináljuk az eredményeket az élek meghatározásához\n",
    "edges_x = np.abs(vertical).astype(np.uint8)\n",
    "edges_y = np.abs(horizontal).astype(np.uint8)\n",
    "\n",
    "# Gradiens magnitúdó számítása\n",
    "gradient_magnitude = np.sqrt(vertical**2 + horizontal**2).astype(np.uint8)\n",
    "\n",
    "# Eredmények megjelenítése a matplotlib segítségével\n",
    "plt.figure(figsize=(12, 8))\n",
    "\n",
    "# Az élek képei\n",
    "plt.subplot(2, 2, 1)\n",
    "plt.imshow(edges_x, cmap='gray')\n",
    "plt.title(\"Edges in X Direction (Roberts)\")\n",
    "plt.axis(\"off\")\n",
    "\n",
    "plt.subplot(2, 2, 2)\n",
    "plt.imshow(edges_y, cmap='gray')\n",
    "plt.title(\"Edges in Y Direction (Roberts)\")\n",
    "plt.axis(\"off\")\n",
    "\n",
    "# Gradiens magnitúdó\n",
    "plt.subplot(2, 2, 3)\n",
    "plt.imshow(gradient_magnitude, cmap='gray')\n",
    "plt.title(\"Gradient Magnitude (Roberts)\")\n",
    "plt.axis(\"off\")\n",
    "\n",
    "# Kombinált élek képe\n",
    "edges_combined = edges_x + edges_y\n",
    "edges_combined_normalized = cv2.normalize(edges_combined, None, 0, 255, cv2.NORM_MINMAX)\n",
    "plt.subplot(2, 2, 4)\n",
    "plt.imshow(edges_combined_normalized, cmap='gray')\n",
    "plt.title(\"Combined Edges Image (Roberts)\")\n",
    "plt.axis(\"off\")\n",
    "\n",
    "plt.tight_layout()\n",
    "plt.show()"
   ]
  },
  {
   "cell_type": "markdown",
   "id": "d389a11e",
   "metadata": {},
   "source": [
    "A kontúrok már teljesen jól látszanak. A számítás hibás volt. Az élek egyesítése hasonló eredményt ad, mint a gradiens magnitúdó, annyi különbséggel hogy a kontúrok így lágyabbak."
   ]
  },
  {
   "cell_type": "markdown",
   "id": "5d22e9ef",
   "metadata": {},
   "source": [
    "## Sobel filter"
   ]
  },
  {
   "cell_type": "code",
   "execution_count": null,
   "id": "f81a0a1d",
   "metadata": {},
   "outputs": [],
   "source": [
    "def sobel_filter(image):\n",
    "    # Konvertáljuk a képet szürkeárnyalatosra, ha szükséges\n",
    "    if len(image.shape) == 3:\n",
    "        image = cv2.cvtColor(image, cv2.COLOR_BGR2GRAY)\n",
    "\n",
    "    # Alkalmazzuk a Sobel szűrőt a képre az x és y irányban\n",
    "    gradient_x = cv2.Sobel(image, cv2.CV_64F, 1, 0, ksize=3)\n",
    "    gradient_y = cv2.Sobel(image, cv2.CV_64F, 0, 1, ksize=3)\n",
    "\n",
    "    # Kombináljuk az eredményeket az élek meghatározásához\n",
    "    edges_x = np.abs(gradient_x).astype(np.uint8)\n",
    "    edges_y = np.abs(gradient_y).astype(np.uint8)\n",
    "\n",
    "    # Gradiens magnitúdó számítása\n",
    "    gradient_magnitude = np.sqrt(gradient_x**2 + gradient_y**2).astype(np.uint8)\n",
    "\n",
    "    return edges_x, edges_y, gradient_magnitude\n",
    "\n",
    "# Kép beolvasása\n",
    "input_image = cv2.imread(\"Images/lines.png\")\n",
    "\n",
    "# Sobel szűrő alkalmazása a képre az x és y irányban\n",
    "edges_x, edges_y, gradient_magnitude = sobel_filter(input_image)\n",
    "\n",
    "# Eredmények megjelenítése a matplotlib segítségével\n",
    "plt.figure(figsize=(12, 8))\n",
    "\n",
    "# Az élek képei\n",
    "plt.subplot(2, 2, 1)\n",
    "plt.imshow(edges_x, cmap='gray')\n",
    "plt.title(\"Edges in X Direction (Sobel)\")\n",
    "plt.axis(\"off\")\n",
    "\n",
    "plt.subplot(2, 2, 2)\n",
    "plt.imshow(edges_y, cmap='gray')\n",
    "plt.title(\"Edges in Y Direction (Sobel)\")\n",
    "plt.axis(\"off\")\n",
    "\n",
    "# Gradiens magnitúdó\n",
    "plt.subplot(2, 2, 3)\n",
    "plt.imshow(gradient_magnitude, cmap='gray')\n",
    "plt.title(\"Gradient Magnitude (Sobel)\")\n",
    "plt.axis(\"off\")\n",
    "\n",
    "# Kombinált élek képe\n",
    "edges_combined = edges_x + edges_y\n",
    "edges_combined_normalized = cv2.normalize(edges_combined, None, 0, 255, cv2.NORM_MINMAX)\n",
    "plt.subplot(2, 2, 4)\n",
    "plt.imshow(edges_combined_normalized, cmap='gray')\n",
    "plt.title(\"Combined Edges Image (Sobel)\")\n",
    "plt.axis(\"off\")\n",
    "\n",
    "plt.tight_layout()\n",
    "plt.show()\n"
   ]
  },
  {
   "cell_type": "markdown",
   "id": "33cbdf72",
   "metadata": {},
   "source": [
    "Mint a Roberts szűrővel itt is hasonló eredményt kapunk, mint a gradiens magnitúdó, de a kontúrok jóval erősebbek."
   ]
  },
  {
   "cell_type": "markdown",
   "id": "599a192f",
   "metadata": {},
   "source": [
    "# Élkiemelés konvolúciós mátrixszokkal"
   ]
  },
  {
   "cell_type": "code",
   "execution_count": null,
   "id": "6458218a",
   "metadata": {},
   "outputs": [],
   "source": [
    "def roberts_filter(image):\n",
    "    # Konvertáljuk a képet szürkeárnyalatosra, ha szükséges\n",
    "    if len(image.shape) == 3:\n",
    "        image = cv2.cvtColor(image, cv2.COLOR_BGR2GRAY)\n",
    "\n",
    "    # Definiáljuk a Roberts operátorokat\n",
    "    roberts_x = np.array([[1, 0], [0, -1]])\n",
    "    roberts_y = np.array([[0, 1], [-1, 0]])\n",
    "\n",
    "    # Alkalmazzuk a Roberts szűrőt a képre az x és y irányban\n",
    "    filtered_x = cv2.filter2D(image, -1, roberts_x)\n",
    "    filtered_y = cv2.filter2D(image, -1, roberts_y)\n",
    "\n",
    "    # Kombináljuk az eredményeket az élek meghatározásához\n",
    "    edges_x = np.abs(filtered_x).astype(np.uint8)\n",
    "    edges_y = np.abs(filtered_y).astype(np.uint8)\n",
    "\n",
    "    # Gradiens magnitúdó számítása\n",
    "    gradient_magnitude = np.sqrt(filtered_x**2 + filtered_y**2).astype(np.uint8)\n",
    "\n",
    "    return edges_x, edges_y, gradient_magnitude, filtered_x, filtered_y\n",
    "\n",
    "# Kép beolvasása\n",
    "input_image = cv2.imread(\"Images/lines.png\")\n",
    "\n",
    "# Roberts szűrő alkalmazása a képre az x és y irányban\n",
    "edges_x, edges_y, gradient_magnitude, gradient_x, gradient_y = roberts_filter(input_image)\n",
    "\n",
    "# Eredmények megjelenítése a matplotlib segítségével\n",
    "plt.figure(figsize=(15, 12))\n",
    "\n",
    "# Az élek képei\n",
    "plt.subplot(2, 3, 1)\n",
    "plt.imshow(edges_x, cmap='gray')\n",
    "plt.title(\"Edges in X Direction\")\n",
    "plt.axis(\"off\")\n",
    "\n",
    "plt.subplot(2, 3, 2)\n",
    "plt.imshow(edges_y, cmap='gray')\n",
    "plt.title(\"Edges in Y Direction\")\n",
    "plt.axis(\"off\")\n",
    "\n",
    "# Gradiens magnitúdó\n",
    "plt.subplot(2, 3, 3)\n",
    "plt.imshow(gradient_magnitude, cmap='gray')\n",
    "plt.title(\"Gradient Magnitude\")\n",
    "plt.axis(\"off\")\n",
    "\n",
    "# Gradiens az x irányban\n",
    "plt.subplot(2, 3, 4)\n",
    "plt.imshow(np.abs(gradient_x), cmap='gray')\n",
    "plt.title(\"Gradient in X Direction\")\n",
    "plt.axis(\"off\")\n",
    "\n",
    "# Gradiens az y irányban\n",
    "plt.subplot(2, 3, 5)\n",
    "plt.imshow(np.abs(gradient_y), cmap='gray')\n",
    "plt.title(\"Gradient in Y Direction\")\n",
    "plt.axis(\"off\")\n",
    "\n",
    "# Kombinált élek képe\n",
    "edges_combined = edges_x + edges_y\n",
    "edges_combined_normalized = cv2.normalize(edges_combined, None, 0, 255, cv2.NORM_MINMAX)\n",
    "plt.subplot(2, 3, 6)\n",
    "plt.imshow(edges_combined_normalized, cmap='gray')\n",
    "plt.title(\"Combined Edges Image\")\n",
    "plt.axis(\"off\")\n",
    "plt.tight_layout()\n",
    "plt.show()\n"
   ]
  },
  {
   "cell_type": "markdown",
   "id": "517cb16f",
   "metadata": {},
   "source": [
    "# Blobdetektálás"
   ]
  },
  {
   "cell_type": "code",
   "execution_count": null,
   "id": "a37aefad",
   "metadata": {},
   "outputs": [],
   "source": [
    "def blob_detector(image_path, min_area=100):\n",
    "    # Kép beolvasása\n",
    "    image = cv2.imread(image_path, 0)\n",
    "    \n",
    "    # Binarizálás\n",
    "    _, binary_image = cv2.threshold(image, 160, 255, cv2.THRESH_BINARY)\n",
    "    \n",
    "    # Kontúrkeresés a binarizált képen\n",
    "    contours, _ = cv2.findContours(binary_image, cv2.RETR_EXTERNAL, cv2.CHAIN_APPROX_SIMPLE)\n",
    "    \n",
    "    # Szűrés a kontúrokon a kívánt kritériumok alapján (pl. terület)\n",
    "    filtered_contours = [contour for contour in contours if cv2.contourArea(contour) > min_area]\n",
    "    \n",
    "    # Blobok kiemelése a képen\n",
    "    image_with_blobs = cv2.drawContours(image.copy(), filtered_contours, -1, (0, 255, 0), 2)\n",
    "    \n",
    "    return image_with_blobs\n",
    "\n",
    "# Tesztelés\n",
    "input_image = \"Images/blurry.jpg\"\n",
    "image_with_blobs = blob_detector(input_image)\n",
    "\n",
    "# Eredmények megjelenítése\n",
    "plt.imshow(image_with_blobs, cmap='gray')\n",
    "plt.title('Blobdetektálás')\n",
    "plt.axis('off')\n",
    "plt.show()\n"
   ]
  },
  {
   "cell_type": "markdown",
   "id": "dfd418be",
   "metadata": {},
   "source": [
    "Ez a program egy vonalkövető algoritmust valósít meg, \n",
    "amely egy adott képen egy kiindulópontból egy adott számú lépést tesz meg, és végigköveti a vonalat. \n",
    "A vonalkövetés során az algoritmus minden lépésben kiválasztja a legközelebbi szomszédos pontot, \n",
    "amelynek pixelértéke a legalacsonyabb. \n",
    "Az algoritmus ezáltal megtalálja a vonal irányát és az általa megtett pontokat piros vonallal ábrázolja\n",
    "az eredeti képen."
   ]
  }
 ],
 "metadata": {
  "kernelspec": {
   "display_name": "Python 3 (ipykernel)",
   "language": "python",
   "name": "python3"
  },
  "language_info": {
   "codemirror_mode": {
    "name": "ipython",
    "version": 3
   },
   "file_extension": ".py",
   "mimetype": "text/x-python",
   "name": "python",
   "nbconvert_exporter": "python",
   "pygments_lexer": "ipython3",
   "version": "3.11.3"
  }
 },
 "nbformat": 4,
 "nbformat_minor": 5
}
